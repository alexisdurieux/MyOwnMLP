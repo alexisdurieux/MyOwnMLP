{
 "cells": [
  {
   "cell_type": "code",
   "execution_count": 1,
   "metadata": {},
   "outputs": [],
   "source": [
    "# inspired from http://peterroelants.github.io/posts/neural_network_implementation_part05/\n",
    "import numpy as np\n",
    "import matplotlib.pyplot as plt"
   ]
  },
  {
   "cell_type": "code",
   "execution_count": 2,
   "metadata": {},
   "outputs": [],
   "source": [
    "EPS = 10e-7\n",
    "\n",
    "class Layer(object):\n",
    "    def forward(self, h):\n",
    "        \"\"\" Perform a forward step for the given layer and returns the result\n",
    "        # Argument\n",
    "            h: np.array of the previous layer\n",
    "        # Return\n",
    "            np.array of the activation \n",
    "        \"\"\"\n",
    "        \n",
    "    def backward(self, grad):\n",
    "        \"\"\" Perform the backpropagation of the layer. This method updates weights if necessary\n",
    "        # Argument\n",
    "            grad: np.array of the incoming gradient\n",
    "        # Return\n",
    "            np.array of the calculated gradient\n",
    "        \"\"\""
   ]
  },
  {
   "cell_type": "code",
   "execution_count": 3,
   "metadata": {},
   "outputs": [],
   "source": [
    "class Linear(Layer):\n",
    "    def __init__(self, input_size, nb_neurons, lr=0.0001, freeze=False):\n",
    "        self._weights = np.random.randn(input_size + 1, nb_neurons) * 0.1\n",
    "        self.lr = lr\n",
    "        self.freeze = freeze\n",
    "        \n",
    "    def forward(self, h):\n",
    "        self._h = np.concatenate((np.ones(1), h))\n",
    "        return self._weights.T.dot(self._h)\n",
    "    \n",
    "    def backward(self, grad):\n",
    "        if not self.freeze:\n",
    "            dW = grad[:, np.newaxis].dot(self._h[:, np.newaxis].T).T\n",
    "            self._weights -= self.lr * dW\n",
    "        return grad.dot(self._weights.T)\n",
    "    \n",
    "class Relu(Layer):\n",
    "    def forward(self, h):\n",
    "        self._h = h\n",
    "        return np.maximum(0, h)\n",
    "    \n",
    "    def backward(self, grad):\n",
    "        return np.multiply(grad[1:], (self._h >= 0).astype(dtype=np.float))\n",
    "    \n",
    "class Sigmoid(Layer):\n",
    "    def forward(self, h):\n",
    "        self._h = h\n",
    "        return 1 / (1 - np.exp(-h))\n",
    "    \n",
    "    def backward(self, grad):\n",
    "        pass\n",
    "    \n",
    "class Softmax(Layer):\n",
    "    def forward(self, h):\n",
    "        self._h = h\n",
    "        s = np.sum(np.exp(h))\n",
    "        return np.exp(h) / s\n",
    "    \n",
    "    def backward(self, y_true):\n",
    "        return self._h - y_true\n",
    "    \n",
    "def categorical_cross_entropy(y_true, y_pred):\n",
    "    return - np.multiply(y_true, np.log(y_pred + EPS)).sum()"
   ]
  },
  {
   "cell_type": "code",
   "execution_count": 4,
   "metadata": {},
   "outputs": [],
   "source": [
    "class Model(object):\n",
    "    def __init__(self, cost):\n",
    "        self._layers = []\n",
    "        self._activations = []\n",
    "        self._cost = cost\n",
    "\n",
    "    def add_layer(self, layer):\n",
    "        self._layers.append(layer)\n",
    "        \n",
    "    def get_cost(self, y_true , y_pred):\n",
    "        return self._cost(y_true, y_pred)\n",
    "        \n",
    "    def propagate(self, x):\n",
    "        self._activations = [x]\n",
    "        for layer in self._layers:\n",
    "            self._activations.append(layer.forward(self._activations[-1]))\n",
    "            \n",
    "    def back_prop(self, y):\n",
    "        cur_grad = None\n",
    "        for layer in reversed(self._layers):\n",
    "            Y = self._activations.pop()\n",
    "            if cur_grad is None:\n",
    "                cur_grad = layer.backward(y)\n",
    "            else:\n",
    "                cur_grad = layer.backward(cur_grad)\n",
    "                \n",
    "    def predict(self, X):\n",
    "        predictions = []\n",
    "        for x in X:\n",
    "            self.propagate(x)\n",
    "            predictions.append(self._activations[-1])\n",
    "        return np.array(predictions)\n",
    "\n",
    "    def score(self, X_test, y_test):\n",
    "        y_pred = self.predict(X_test)\n",
    "        return np.sum(np.argmax(y_pred, axis=1) == np.argmax(y_test, axis=1))/len(y_pred)\n",
    "        \n",
    "            \n",
    "    def train(self, epochs, X_train, y_train, X_valid=None, y_valid=None):\n",
    "        n_train, n_valid = len(y_train), len(y_valid)\n",
    "        loss_epochs = []\n",
    "        val_loss_epochs = []\n",
    "        for _ in range(epochs):\n",
    "            Ls = []\n",
    "            for i in range(n_train):\n",
    "                x, y = X_train[i, :], y_train[i, :]\n",
    "                self.propagate(x)\n",
    "                L = self.get_cost(y, self._activations[-1])\n",
    "                Ls.append(L)\n",
    "                self.back_prop(y)\n",
    "            loss_epochs.append(np.mean(Ls))\n",
    "            Ls = []\n",
    "            for i in range(n_valid):\n",
    "                x, y = X_valid[i, :], y_valid[i, :]\n",
    "                self.propagate(x)\n",
    "                L = self.get_cost(y, self._activations[-1])\n",
    "                Ls.append(L)\n",
    "            val_loss_epochs.append(np.mean(Ls))\n",
    "        plt.title(\"Loss over {} epochs\".format(str(epochs)))\n",
    "        plt.plot(val_loss_epochs, 'b', label=\"Val Loss\")\n",
    "        plt.plot(loss_epochs, 'r', label=\"Loss\")\n",
    "        plt.legend()\n",
    "        plt.show()"
   ]
  },
  {
   "cell_type": "code",
   "execution_count": 5,
   "metadata": {},
   "outputs": [],
   "source": [
    "model = Model(categorical_cross_entropy)\n",
    "model.add_layer(Linear(64, 20))\n",
    "model.add_layer(Relu())\n",
    "model.add_layer(Linear(20, 20))\n",
    "model.add_layer(Relu())\n",
    "model.add_layer(Linear(20, 10))\n",
    "model.add_layer(Softmax())"
   ]
  },
  {
   "cell_type": "code",
   "execution_count": 6,
   "metadata": {},
   "outputs": [
    {
     "name": "stderr",
     "output_type": "stream",
     "text": [
      "Using TensorFlow backend.\n"
     ]
    }
   ],
   "source": [
    "# Test on MNIST\n",
    "from sklearn import datasets\n",
    "from keras.utils import to_categorical\n",
    "\n",
    "# The digits dataset\n",
    "digits = datasets.load_digits()\n",
    "targets = digits.target\n",
    "X, y = digits.data, to_categorical(targets)"
   ]
  },
  {
   "cell_type": "code",
   "execution_count": 7,
   "metadata": {},
   "outputs": [
    {
     "data": {
      "image/png": "[encoded data removed]",
      "text/plain": [
       "<matplotlib.figure.Figure at 0x7f589e57cfd0>"
      ]
     },
     "metadata": {},
     "output_type": "display_data"
    }
   ],
   "source": [
    "def split_data(X, y, percent):\n",
    "    split = int(len(y) * percent)\n",
    "    return X[:split, :], y[:split, :], X[split:, :], y[split:, :]\n",
    "X = (X - np.mean(X)) / np.std(X)\n",
    "X_train, y_train, X_valid, y_valid = split_data(X, y, 0.5)\n",
    "X_valid, y_valid, X_test, y_test = split_data(X_valid, y_valid, 0.5)\n",
    "model.train(1000, X_train, y_train, X_valid, y_valid)"
   ]
  },
  {
   "cell_type": "code",
   "execution_count": 8,
   "metadata": {},
   "outputs": [
    {
     "name": "stdout",
     "output_type": "stream",
     "text": [
      "Accuracy = 0.9066666666666666\n"
     ]
    }
   ],
   "source": [
    "score = model.score(X_test, y_test)\n",
    "print(\"Accuracy = {}\".format(str(score)))"
   ]
  },
  {
   "cell_type": "code",
   "execution_count": null,
   "metadata": {},
   "outputs": [],
   "source": []
  }
 ],
 "metadata": {
  "kernelspec": {
   "display_name": "Python 3",
   "language": "python",
   "name": "python3"
  },
  "language_info": {
   "codemirror_mode": {
    "name": "ipython",
    "version": 3
   },
   "file_extension": ".py",
   "mimetype": "text/x-python",
   "name": "python",
   "nbconvert_exporter": "python",
   "pygments_lexer": "ipython3",
   "version": "3.6.3"
  }
 },
 "nbformat": 4,
 "nbformat_minor": 2
}
